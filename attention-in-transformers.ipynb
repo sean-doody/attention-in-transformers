{
 "cells": [
  {
   "cell_type": "markdown",
   "metadata": {},
   "source": [
    "# Attention in Transformers\n",
    "\n",
    "Implementing attention mechanisms for transformers. Based on the course [Attention in Transformers: Concepts and Code in PyTorch](https://learn.deeplearning.ai/courses/attention-in-transformers-concepts-and-code-in-pytorch) taught by Josh Starmer of StatQuest.\n",
    "\n",
    "---"
   ]
  },
  {
   "cell_type": "markdown",
   "metadata": {},
   "source": [
    "## Positional Encodings\n",
    "\n",
    "The positional encoding in the transformer model allows the model to consider the order of words in a sequence when creating embeddings.\n",
    "\n",
    "- A ***context aware*** or ***contextualized*** embedding can therefore be computed.\n",
    "    - It is equivalent to summing the token embeddings with their positional encodings.\n",
    "- This extends the concept of word embeddings to the sentence and document level.\n",
    "\n",
    "***Encoder-only transformer*** models are used to produce contextualized embeddings for a number of downstream tasks like clustering and classification.\n",
    "\n",
    "- They are \"encoder-only\" because they ony use the ***encoder*** component of the transformer.\n",
    "- They use the ***self-attention*** mechanism, and can see all tokens in the sequence.\n",
    "\n",
    "Of course, there are also ***decoder-only transformer*** models.\n",
    "\n",
    "- These models only use the ***decoder*** component of the transformer.\n",
    "- These models use the ***masked self-attention*** mechanism, and can only see *preceding* tokens in a sequence (i.e., no words that come after the word of interest).\n",
    "- Decoder-only transformers are generative models (e.g., ChatGPT).\n",
    "\n",
    "---"
   ]
  },
  {
   "cell_type": "markdown",
   "metadata": {},
   "source": [
    "## Self-Attention\n",
    "\n",
    "$Attention(Q,K,V) = SoftMax(\\frac{QK^T}{\\sqrt{d_k}})V$\n",
    "\n",
    "- $Q \\rightarrow$ query\n",
    "- $K \\rightarrow$ key\n",
    "- $V \\rightarrow$ value\n",
    "\n",
    "The concepts ***query***, ***key***, and ***value*** come from database terminology:\n",
    "\n",
    "- $query \\rightarrow \\{key: value\\}$\n",
    "\n",
    "In the context of transformers, we find the ***keys*** that are most similar to the ***queries*** and obtain the ***values*** of the associated ***keys***.\n",
    "\n",
    "#### Example\n",
    "\n",
    "Assume we have the following sequence consisting of 3 tokens: `Write a poem`. The tokens get encoded into 2D embeddings (for illustration purposes only). Their shape will be $(3, 2)$, since there are 3 tokens and 2 embedding dimensions:\n",
    "\n",
    "- $Token Embeddings = \\begin{bmatrix} 1.16 && 0.23 \\\\ 0.57 && 1.36 \\\\ 4.41 && -2.16 \\end{bmatrix}$\n",
    "\n",
    "We then create a matrix of $(d, d)$ weights for the query matrix, where $d$ is the desired dimensionality (here, we use 2 for illustration purposes):\n",
    "\n",
    "- $QueryWeights^T = \\begin{bmatrix} 0.54 && -0.17 \\\\ 0.59 && 0.65 \\end{bmatrix}$\n",
    "- **Note:** the $T$ indicates that this is the ***transpose*** of the weight matrix due to how PyTorch stores the weights.\n",
    "\n",
    "Now we can calculate the query matrix:\n",
    "\n",
    "- $Q = TokenEmbeddings \\times QueryWeights^T$\n",
    "\n",
    "And we repeat for the key matrix and value matrix:\n",
    "\n",
    "- $KeyWeights^T = \\begin{bmatrix} -0.15 && -0.34 \\\\ 0.14 && 0.42 \\end{bmatrix}$\n",
    "\n",
    "- $K = TokenEmbeddings \\times KeyWeights^T$\n",
    "\n",
    "- $ValueWeights^T = \\begin{bmatrix} 0.62 && 0.61 \\\\ -0.52 && 0.13 \\end{bmatrix}$\n",
    "\n",
    "- $V = TokenEmbeddings \\times ValueWeights^T$\n",
    "\n",
    "Now we can solve the self-attention equation using our matrices:\n",
    "\n",
    "- $QK^T \\rightarrow$ computes the ***dot products*** between each token in the query and key matrices. \n",
    "    - The dot product is essentially an unscaled similarity measure.\n",
    "    - Cosine similarity scales the dot product between $[-1, 1]$. \n",
    "- The dot product similarities in in $QK^T$ are scaled by $\\sqrt{d_k}$, where $d_k$ is the dimensionality of the key matrix.\n",
    "    - This scaling is nothing special, but improves performance.\n",
    "- We take the softmax of $\\frac{QK^T}{\\sqrt{d_k}}$ to convert the scaled dot product similarities to probabilities.\n",
    "    - The rows will sum to $1$, which can be interpreted as the ***percent similarity*** between the tokens at any given position.\n",
    "- Finally, multiply the softmax percentages by the values in $V$.\n",
    "    - The percentages from the softmax function tell us how much influence each word should have on the final encoding."
   ]
  },
  {
   "cell_type": "markdown",
   "metadata": {},
   "source": [
    "#### Implementation\n",
    "\n",
    "Now, we can implement self-attention in PyTorch:"
   ]
  },
  {
   "cell_type": "code",
   "execution_count": 1,
   "metadata": {},
   "outputs": [],
   "source": [
    "import torch\n",
    "import torch.nn as nn\n",
    "import torch.nn.functional as F\n",
    "\n",
    "\n",
    "# self-attention module:\n",
    "class SelfAttention(nn.Module):\n",
    "    def __init__(self,\n",
    "                 d_model=2, # dimensionality of embeddings\n",
    "                 row_dim=0, # keeps track of the row index\n",
    "                 col_dim=1  # keeps track of the column index\n",
    "                 ):\n",
    "        \n",
    "        super().__init__()\n",
    "\n",
    "        # initialize weight matrices for Q,K,V:\n",
    "        self.W_q = nn.Linear(\n",
    "            in_features=d_model,  # embedding dimensions\n",
    "            out_features=d_model, # embedding dimensions\n",
    "            bias=False            # no intercept (\"bias\")\n",
    "        )\n",
    "\n",
    "        self.W_k = nn.Linear(\n",
    "            in_features=d_model,\n",
    "            out_features=d_model,\n",
    "            bias=False\n",
    "        )\n",
    "\n",
    "        self.W_v = nn.Linear(\n",
    "            in_features=d_model,\n",
    "            out_features=d_model,\n",
    "            bias=False\n",
    "        )\n",
    "\n",
    "        self.row_dim = row_dim\n",
    "        self.col_dim = col_dim\n",
    "\n",
    "    def forward(self, token_encodings):\n",
    "        # token_encodings = word embeddings + positional encodings\n",
    "        # calculate Q and V:\n",
    "        q = self.W_q(token_encodings)\n",
    "        k = self.W_k(token_encodings)\n",
    "        v = self.W_v(token_encodings)\n",
    "\n",
    "        # calculate attention:\n",
    "        sims = torch.matmul(\n",
    "            q, k.transpose(dim0=self.row_dim, dim1=self.col_dim)\n",
    "        )\n",
    "\n",
    "        scaled_sims = sims / torch.tensor(k.size(self.col_dim)**0.5)\n",
    "        attention_percents = F.softmax(scaled_sims, dim=self.col_dim)\n",
    "        attention_scores = torch.matmul(attention_percents, v)\n",
    "\n",
    "        return attention_scores\n"
   ]
  },
  {
   "cell_type": "markdown",
   "metadata": {},
   "source": [
    "Test it out:"
   ]
  },
  {
   "cell_type": "code",
   "execution_count": 2,
   "metadata": {},
   "outputs": [
    {
     "data": {
      "text/plain": [
       "tensor([[1.0100, 1.0641],\n",
       "        [0.2040, 0.7057],\n",
       "        [3.4989, 2.2427]], grad_fn=<MmBackward0>)"
      ]
     },
     "execution_count": 2,
     "metadata": {},
     "output_type": "execute_result"
    }
   ],
   "source": [
    "torch.manual_seed(42)\n",
    "\n",
    "# test encoding matrix:\n",
    "encodings_matrix = torch.tensor([[1.16, 0.23],\n",
    "                                 [0.57, 1.36],\n",
    "                                 [4.41, -2.16]])\n",
    "\n",
    "self_attn = SelfAttention(d_model=2, row_dim=0, col_dim=1)\n",
    "\n",
    "self_attn(encodings_matrix)"
   ]
  },
  {
   "cell_type": "markdown",
   "metadata": {},
   "source": [
    "It worked! We can also validate the math:"
   ]
  },
  {
   "cell_type": "code",
   "execution_count": 3,
   "metadata": {},
   "outputs": [
    {
     "name": "stdout",
     "output_type": "stream",
     "text": [
      "W_Q: tensor([[ 0.5406, -0.1657],\n",
      "        [ 0.5869,  0.6496]], grad_fn=<TransposeBackward0>)\n",
      "\n",
      "W_K: tensor([[-0.1549, -0.3443],\n",
      "        [ 0.1427,  0.4153]], grad_fn=<TransposeBackward0>)\n",
      "\n",
      "W_V: tensor([[ 0.6233,  0.6146],\n",
      "        [-0.5188,  0.1323]], grad_fn=<TransposeBackward0>)\n"
     ]
    }
   ],
   "source": [
    "# retrieve weight matrices:\n",
    "W_k = self_attn.W_k.weight.transpose(0, 1)\n",
    "W_q = self_attn.W_q.weight.transpose(0, 1)\n",
    "W_v = self_attn.W_v.weight.transpose(0, 1)\n",
    "\n",
    "print(f\"W_Q: {W_q}\\n\\nW_K: {W_k}\\n\\nW_V: {W_v}\")"
   ]
  },
  {
   "cell_type": "markdown",
   "metadata": {},
   "source": [
    "Manually calcuate:"
   ]
  },
  {
   "cell_type": "code",
   "execution_count": 4,
   "metadata": {},
   "outputs": [
    {
     "name": "stdout",
     "output_type": "stream",
     "text": [
      "tensor([[True, True],\n",
      "        [True, True],\n",
      "        [True, True]])\n",
      "tensor([[True, True],\n",
      "        [True, True],\n",
      "        [True, True]])\n",
      "tensor([[True, True],\n",
      "        [True, True],\n",
      "        [True, True]])\n"
     ]
    }
   ],
   "source": [
    "print(torch.matmul(encodings_matrix, W_k) == self_attn.W_k(encodings_matrix))\n",
    "print(torch.matmul(encodings_matrix, W_q) == self_attn.W_q(encodings_matrix))\n",
    "print(torch.matmul(encodings_matrix, W_v) == self_attn.W_v(encodings_matrix))"
   ]
  },
  {
   "cell_type": "markdown",
   "metadata": {},
   "source": [
    "Same outputs!\n",
    "\n",
    "---"
   ]
  },
  {
   "cell_type": "markdown",
   "metadata": {},
   "source": [
    "## Masked Self-Attention\n",
    "\n",
    "$ MaskedSelfAttention(Q,K,V,M) = SoftMax(\\frac{QK^T}{\\sqrt{d_k}}+M)V$\n",
    "\n",
    "The only difference is the addition of the masking matrix, $M$.\n",
    "- The purpose of the mask is to prevent tokens from observing any information about tokens that come after them in a sequence.\n",
    "- For any token $t_i$, they can \"see\" the full context of tokens ***up to*** their position.\n",
    "\n",
    "The mask matrix $M$ applies $-\\infty$ to the positions of tokens we want to mask out, and $0$ otherwise. For example:\n",
    "\n",
    "- $\\begin{bmatrix} 0 && -\\infty && -\\infty \\\\ 0 && 0 && -\\infty \\\\ 0 && 0 && 0 \\end{bmatrix}$\n",
    "\n",
    "$-\\infty$ has the effect of producing $0\\%$ similarities for masked positions after applying the softmax."
   ]
  },
  {
   "cell_type": "markdown",
   "metadata": {},
   "source": [
    "### Implementation\n",
    "\n",
    "We can code masked self-attention in PyTorch:"
   ]
  },
  {
   "cell_type": "code",
   "execution_count": 5,
   "metadata": {},
   "outputs": [],
   "source": [
    "# masked self-attention module:\n",
    "class MaskedSelfAttention(nn.Module):\n",
    "    def __init__(self,\n",
    "                 d_model=2, # dimensionality of embeddings\n",
    "                 row_dim=0, # keeps track of the row index\n",
    "                 col_dim=1  # keeps track of the column index\n",
    "                 ):\n",
    "        \n",
    "        super().__init__()\n",
    "\n",
    "        # initialize weight matrices for Q,K,V:\n",
    "        self.W_q = nn.Linear(\n",
    "            in_features=d_model,  # embedding dimensions\n",
    "            out_features=d_model, # embedding dimensions\n",
    "            bias=False            # no intercept (\"bias\")\n",
    "        )\n",
    "\n",
    "        self.W_k = nn.Linear(\n",
    "            in_features=d_model,\n",
    "            out_features=d_model,\n",
    "            bias=False\n",
    "        )\n",
    "\n",
    "        self.W_v = nn.Linear(\n",
    "            in_features=d_model,\n",
    "            out_features=d_model,\n",
    "            bias=False\n",
    "        )\n",
    "\n",
    "        self.row_dim = row_dim\n",
    "        self.col_dim = col_dim\n",
    "\n",
    "    def forward(self, token_encodings, mask=None):\n",
    "        # Q, K, V:\n",
    "        q = self.W_q(token_encodings)\n",
    "        k = self.W_k(token_encodings)\n",
    "        v = self.W_v(token_encodings)\n",
    "\n",
    "\n",
    "        # calculate attention:\n",
    "        sims = torch.matmul(\n",
    "            q, k.transpose(dim0=self.row_dim, dim1=self.col_dim)\n",
    "        )\n",
    "\n",
    "        scaled_sims = sims / torch.tensor(k.size(self.col_dim)**0.5)\n",
    "\n",
    "        # apply the mask:\n",
    "        if mask is not None:\n",
    "            scaled_sims = scaled_sims.masked_fill(mask, value=-1e9)\n",
    "\n",
    "        attention_percents = F.softmax(scaled_sims, dim=self.col_dim)\n",
    "        attention_scores = torch.matmul(attention_percents, v)\n",
    "\n",
    "        return attention_scores"
   ]
  },
  {
   "cell_type": "markdown",
   "metadata": {},
   "source": [
    "Test:"
   ]
  },
  {
   "cell_type": "code",
   "execution_count": 6,
   "metadata": {},
   "outputs": [
    {
     "data": {
      "text/plain": [
       "tensor([[ 0.6038,  0.7434],\n",
       "        [-0.0062,  0.6072],\n",
       "        [ 3.4989,  2.2427]], grad_fn=<MmBackward0>)"
      ]
     },
     "execution_count": 6,
     "metadata": {},
     "output_type": "execute_result"
    }
   ],
   "source": [
    "torch.manual_seed(42)\n",
    "\n",
    "encodings_matrix = torch.tensor([[1.16, 0.23],\n",
    "                                 [0.57, 1.36],\n",
    "                                 [4.41, -2.16]])\n",
    "\n",
    "masked_self_attn = MaskedSelfAttention(d_model=2, row_dim=0, col_dim=1)\n",
    "\n",
    "# create the mask:\n",
    "mask = torch.tril(torch.ones(3,3))\n",
    "mask = mask == 0 # boolean\n",
    "\n",
    "masked_self_attn(encodings_matrix, mask=mask)"
   ]
  },
  {
   "cell_type": "markdown",
   "metadata": {},
   "source": [
    "Again, we can manually validate the math:"
   ]
  },
  {
   "cell_type": "code",
   "execution_count": 7,
   "metadata": {},
   "outputs": [
    {
     "name": "stdout",
     "output_type": "stream",
     "text": [
      "tensor([[True, True],\n",
      "        [True, True],\n",
      "        [True, True]])\n",
      "tensor([[True, True],\n",
      "        [True, True],\n",
      "        [True, True]])\n",
      "tensor([[True, True],\n",
      "        [True, True],\n",
      "        [True, True]])\n"
     ]
    }
   ],
   "source": [
    "W_k = masked_self_attn.W_k.weight.transpose(0, 1)\n",
    "W_q = masked_self_attn.W_q.weight.transpose(0, 1)\n",
    "W_v = masked_self_attn.W_v.weight.transpose(0, 1)\n",
    "\n",
    "print(torch.matmul(encodings_matrix, W_k) == masked_self_attn.W_k(encodings_matrix))\n",
    "print(torch.matmul(encodings_matrix, W_q) == masked_self_attn.W_q(encodings_matrix))\n",
    "print(torch.matmul(encodings_matrix, W_v) == masked_self_attn.W_v(encodings_matrix))"
   ]
  },
  {
   "cell_type": "markdown",
   "metadata": {},
   "source": [
    "---"
   ]
  },
  {
   "cell_type": "markdown",
   "metadata": {},
   "source": [
    "## Multi-Head Attention\n",
    "\n",
    "We can apply attention multiple times simultaneously to the inputs: this is ***multi-head attention***.\n",
    "- This is necessary when dealing with longer, or complicated, sequences. \n",
    "- Each head has its own associated $Q$, $K$, and $V$ matrices and output their contextualized embeddings.\n",
    "- To get back to the original dimensionality of the embeddings space, the outputs of multi-head attention are passed through a fully connected neural network layer with $d$ outputs.\n",
    "    - It's also possible to modify the shape of the value weight matrix.\n",
    "\n",
    "--- "
   ]
  },
  {
   "cell_type": "markdown",
   "metadata": {},
   "source": [
    "## Encoder-Decoder Attention\n",
    "\n",
    "The original transformer had both an ***encoder*** and a ***decoder***.\n",
    "- The encoder uses self-attention.\n",
    "- The decoder uses masked self-attention.\n",
    "- The encoder and decoder are connected so they can calculate ***encoder-decoder attention***.\n",
    "\n",
    "Encoder-decoder attention uses the output from the encoder to calculate **keys** and **values**, and the **queries** are calculated from the output of the decoder.\n",
    "- After calculating $Q$, $K$, and $V$, encoder-decoder attention is calculated just like regular self-attention.\n",
    "\n",
    "Encoder-only transformers took just the encoder component to do specific tasks (e.g., classification, clustering). Likewise, decoder-only transformers took just the decoder component to do specific tasks (e.g., text generation).\n",
    "- While Seq2Seq / Encoder-Decoder models have fallen out of flavor, encoder-decoder attention is still used for ***multi-modal models***.\n",
    "    - *e.g.*, a model might have an encoder trained on images, sound, etc. and a text-based decoder designed to produce captions, respond to audio prompts, etc.\n",
    "\n",
    "---"
   ]
  },
  {
   "cell_type": "markdown",
   "metadata": {},
   "source": [
    "## Brining it all Together\n",
    "\n",
    "Let's bring all the different types of attention, as well as the ability to perform multi-head attention, together in a single class:"
   ]
  },
  {
   "cell_type": "code",
   "execution_count": 8,
   "metadata": {},
   "outputs": [],
   "source": [
    "class Attention(nn.Module):\n",
    "    def __init__(self,\n",
    "                 d_model=2, # dimensionality of embeddings\n",
    "                 row_dim=0, # keeps track of the row index\n",
    "                 col_dim=1  # keeps track of the column index\n",
    "                 ):\n",
    "        \n",
    "        super().__init__()\n",
    "\n",
    "        # initialize weight matrices for Q,K,V:\n",
    "        self.W_q = nn.Linear(\n",
    "            in_features=d_model,  # embedding dimensions\n",
    "            out_features=d_model, # embedding dimensions\n",
    "            bias=False            # no intercept (\"bias\")\n",
    "        )\n",
    "\n",
    "        self.W_k = nn.Linear(\n",
    "            in_features=d_model,\n",
    "            out_features=d_model,\n",
    "            bias=False\n",
    "        )\n",
    "\n",
    "        self.W_v = nn.Linear(\n",
    "            in_features=d_model,\n",
    "            out_features=d_model,\n",
    "            bias=False\n",
    "        )\n",
    "\n",
    "        self.row_dim = row_dim\n",
    "        self.col_dim = col_dim\n",
    "\n",
    "    def forward(self,\n",
    "                encodings_for_q, \n",
    "                encodings_for_k,\n",
    "                encodings_for_v,\n",
    "                mask=None):\n",
    "        # we've modified the forward pass to accept \n",
    "        # different encodings to pass to Q, K, and V\n",
    "        # Q, K, V:\n",
    "        q = self.W_q(encodings_for_q)\n",
    "        k = self.W_k(encodings_for_k)\n",
    "        v = self.W_v(encodings_for_v)\n",
    "\n",
    "\n",
    "        # calculate attention:\n",
    "        sims = torch.matmul(\n",
    "            q, k.transpose(dim0=self.row_dim, dim1=self.col_dim)\n",
    "        )\n",
    "\n",
    "        scaled_sims = sims / torch.tensor(k.size(self.col_dim)**0.5)\n",
    "\n",
    "        # apply the mask:\n",
    "        if mask is not None:\n",
    "            scaled_sims = scaled_sims.masked_fill(mask, value=-1e9)\n",
    "\n",
    "        attention_percents = F.softmax(scaled_sims, dim=self.col_dim)\n",
    "        attention_scores = torch.matmul(attention_percents, v)\n",
    "\n",
    "        return attention_scores"
   ]
  },
  {
   "cell_type": "markdown",
   "metadata": {},
   "source": [
    "Try it out with more flexible encodings:\n",
    "- Values will be the same for illustrative purposes."
   ]
  },
  {
   "cell_type": "code",
   "execution_count": 9,
   "metadata": {},
   "outputs": [
    {
     "data": {
      "text/plain": [
       "tensor([[1.0100, 1.0641],\n",
       "        [0.2040, 0.7057],\n",
       "        [3.4989, 2.2427]], grad_fn=<MmBackward0>)"
      ]
     },
     "execution_count": 9,
     "metadata": {},
     "output_type": "execute_result"
    }
   ],
   "source": [
    "torch.manual_seed(42)\n",
    "\n",
    "# encodings:\n",
    "encodings_for_q = torch.tensor([[1.16, 0.23],\n",
    "                                [0.57, 1.36],\n",
    "                                [4.41, -2.16]])\n",
    "\n",
    "encodings_for_k = torch.tensor([[1.16, 0.23],\n",
    "                                [0.57, 1.36],\n",
    "                                [4.41, -2.16]])\n",
    "\n",
    "encodings_for_v = torch.tensor([[1.16, 0.23],\n",
    "                                [0.57, 1.36],\n",
    "                                [4.41, -2.16]])\n",
    "\n",
    "# attention:\n",
    "attn = Attention(d_model=2, row_dim=0, col_dim=1)\n",
    "attn(encodings_for_q, encodings_for_k, encodings_for_v)"
   ]
  },
  {
   "cell_type": "markdown",
   "metadata": {},
   "source": [
    "Now, let's enable **multi-head attention**:"
   ]
  },
  {
   "cell_type": "code",
   "execution_count": 10,
   "metadata": {},
   "outputs": [],
   "source": [
    "class MultiHeadAttention(nn.Module):\n",
    "    def __init__(self,\n",
    "                 d_model=2,\n",
    "                 row_dim=0,\n",
    "                 col_dim=1,\n",
    "                 num_heads=1):\n",
    "        \n",
    "        super().__init__()\n",
    "\n",
    "        # attention heads:\n",
    "        self.heads = nn.ModuleList(\n",
    "            [\n",
    "                Attention(d_model, row_dim, col_dim)\n",
    "                for _ in range(num_heads)\n",
    "            ]\n",
    "        )\n",
    "\n",
    "        self.col_dim = col_dim\n",
    "    \n",
    "    def forward(self,\n",
    "                encodings_for_q,\n",
    "                encodings_for_k,\n",
    "                encodings_for_v):\n",
    "        \n",
    "        # compute attention across all heads:\n",
    "        attn_outputs = torch.cat(\n",
    "            [\n",
    "                head(encodings_for_q, encodings_for_k, encodings_for_v)\n",
    "                for head in self.heads\n",
    "            ], dim=self.col_dim\n",
    "        )\n",
    "\n",
    "        return attn_outputs"
   ]
  },
  {
   "cell_type": "markdown",
   "metadata": {},
   "source": [
    "Test it out:"
   ]
  },
  {
   "cell_type": "code",
   "execution_count": 11,
   "metadata": {},
   "outputs": [
    {
     "name": "stdout",
     "output_type": "stream",
     "text": [
      "tensor([[ 1.0100,  1.0641, -0.7081, -0.8268,  0.6226,  0.1312,  1.0106,  0.8625,\n",
      "          0.3422,  0.7333, -0.8037,  1.4087, -0.6674,  0.5665,  0.7700, -0.9269],\n",
      "        [ 0.2040,  0.7057, -0.7417, -0.9193,  0.5522,  0.2499,  1.4153,  1.0420,\n",
      "          0.6753,  2.1341, -0.7498,  0.9677, -0.5970,  1.5640,  0.7713, -0.9210],\n",
      "        [ 3.4989,  2.2427, -0.7190, -0.8447,  0.5669,  0.2324,  0.3679,  0.5894,\n",
      "          0.1412, -0.1826, -0.9414,  2.2589, -0.7832, -0.0405,  0.7669, -0.8751]],\n",
      "       grad_fn=<CatBackward0>)\n"
     ]
    }
   ],
   "source": [
    "torch.manual_seed(42)\n",
    "\n",
    "N_HEADS = 8\n",
    "\n",
    "multi_head_attention = MultiHeadAttention(d_model=2,\n",
    "                                          row_dim=0,\n",
    "                                          col_dim=1,\n",
    "                                          num_heads=N_HEADS)\n",
    "\n",
    "encodings_for_q = torch.tensor([[1.16, 0.23],\n",
    "                                [0.57, 1.36],\n",
    "                                [4.41, -2.16]])\n",
    "\n",
    "encodings_for_k = torch.tensor([[1.16, 0.23],\n",
    "                                [0.57, 1.36],\n",
    "                                [4.41, -2.16]])\n",
    "\n",
    "encodings_for_v = torch.tensor([[1.16, 0.23],\n",
    "                                [0.57, 1.36],\n",
    "                                [4.41, -2.16]])\n",
    "\n",
    "\n",
    "outputs = multi_head_attention(encodings_for_q, encodings_for_k, encodings_for_v)\n",
    "print(outputs)"
   ]
  },
  {
   "cell_type": "markdown",
   "metadata": {},
   "source": [
    "The outputs will have shape `(sequence_length, N_HEADS*d_model)`, since each attention head will output `d_model` features per token:"
   ]
  },
  {
   "cell_type": "code",
   "execution_count": 12,
   "metadata": {},
   "outputs": [
    {
     "data": {
      "text/plain": [
       "torch.Size([3, 16])"
      ]
     },
     "execution_count": 12,
     "metadata": {},
     "output_type": "execute_result"
    }
   ],
   "source": [
    "outputs.shape"
   ]
  },
  {
   "cell_type": "markdown",
   "metadata": {},
   "source": [
    "**TRIPLE BAM!!!**"
   ]
  }
 ],
 "metadata": {
  "kernelspec": {
   "display_name": ".venv",
   "language": "python",
   "name": "python3"
  },
  "language_info": {
   "codemirror_mode": {
    "name": "ipython",
    "version": 3
   },
   "file_extension": ".py",
   "mimetype": "text/x-python",
   "name": "python",
   "nbconvert_exporter": "python",
   "pygments_lexer": "ipython3",
   "version": "3.11.11"
  }
 },
 "nbformat": 4,
 "nbformat_minor": 2
}
